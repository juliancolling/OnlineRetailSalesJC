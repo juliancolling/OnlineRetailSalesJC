{
  "cells": [
    {
      "cell_type": "markdown",
      "metadata": {
        "id": "0aStgWSO0E0E"
      },
      "source": [
        "# **(Online retail sales JC)**"
      ]
    },
    {
      "cell_type": "markdown",
      "metadata": {
        "id": "1eLEkw5O0ECa"
      },
      "source": [
        "## Objectives\n",
        "\n",
        "* Write your notebook objective here, for example, \"Fetch data from Kaggle and save as raw data\", or \"engineer features for modelling\"\n",
        "\n",
        "## Inputs\n",
        "\n",
        "* Write down which data or information you need to run the notebook \n",
        "\n",
        "## Outputs\n",
        "\n",
        "* Write here which files, code or artefacts you generate by the end of the notebook \n",
        "\n",
        "## Additional Comments\n",
        "\n",
        "* If you have any additional comments that don't fit in the previous bullets, please state them here. \n",
        "\n"
      ]
    },
    {
      "cell_type": "markdown",
      "metadata": {
        "id": "9uWZXH9LwoQg"
      },
      "source": [
        "---"
      ]
    },
    {
      "cell_type": "markdown",
      "metadata": {
        "id": "cqP-UeN-z3i2"
      },
      "source": [
        "# Change working directory"
      ]
    },
    {
      "cell_type": "markdown",
      "metadata": {},
      "source": [
        "* We are assuming you will store the notebooks in a subfolder, therefore when running the notebook in the editor, you will need to change the working directory"
      ]
    },
    {
      "cell_type": "markdown",
      "metadata": {
        "id": "aOGIGS-uz3i2"
      },
      "source": [
        "We need to change the working directory from its current folder to its parent folder\n",
        "* We access the current directory with os.getcwd()"
      ]
    },
    {
      "cell_type": "code",
      "execution_count": null,
      "metadata": {
        "id": "wZfF_j-Bz3i4",
        "outputId": "66943449-1436-4c3d-85c7-b85f9f78349b"
      },
      "outputs": [],
      "source": [
        "import os\n",
        "current_dir = os.getcwd()\n",
        "current_dir"
      ]
    },
    {
      "cell_type": "markdown",
      "metadata": {
        "id": "9MWW8E7lz3i7"
      },
      "source": [
        "We want to make the parent of the current directory the new current directory\n",
        "* os.path.dirname() gets the parent directory\n",
        "* os.chir() defines the new current directory"
      ]
    },
    {
      "cell_type": "code",
      "execution_count": null,
      "metadata": {
        "id": "TwHsQRWjz3i9",
        "outputId": "86849db3-cd2f-4cc5-ebb8-2d0caafa1a2c"
      },
      "outputs": [],
      "source": [
        "os.chdir(os.path.dirname(current_dir))\n",
        "print(\"You set a new current directory\")"
      ]
    },
    {
      "cell_type": "markdown",
      "metadata": {
        "id": "M_xPk_Ijz3i-"
      },
      "source": [
        "Confirm the new current directory"
      ]
    },
    {
      "cell_type": "code",
      "execution_count": null,
      "metadata": {
        "id": "vz3S-_kjz3jA",
        "outputId": "00b79ae4-75d0-4a96-d193-ac9ef9847ea2"
      },
      "outputs": [],
      "source": [
        "current_dir = os.getcwd()\n",
        "current_dir"
      ]
    },
    {
      "cell_type": "markdown",
      "metadata": {
        "id": "-mavJ8DibrcQ"
      },
      "source": [
        "# Section 1"
      ]
    },
    {
      "cell_type": "markdown",
      "metadata": {},
      "source": [
        "Install & Import Necessary Libraries\n"
      ]
    },
    {
      "cell_type": "markdown",
      "metadata": {},
      "source": [
        "Section 1 content"
      ]
    },
    {
      "cell_type": "code",
      "execution_count": 6,
      "metadata": {},
      "outputs": [],
      "source": [
        "import pandas as pd\n",
        "import numpy as np\n",
        "import matplotlib.pyplot as plt\n",
        "import seaborn as sns\n"
      ]
    },
    {
      "cell_type": "markdown",
      "metadata": {
        "id": "ZY3l0-AxO93d"
      },
      "source": [
        "---"
      ]
    },
    {
      "cell_type": "markdown",
      "metadata": {
        "id": "uFQo3ycuO-v6"
      },
      "source": [
        "# Extract, Transform & Load (ETL) in Python"
      ]
    },
    {
      "cell_type": "markdown",
      "metadata": {},
      "source": [
        "Load the Dataset with Your Initials (jc_)"
      ]
    },
    {
      "cell_type": "markdown",
      "metadata": {},
      "source": [
        "---"
      ]
    },
    {
      "cell_type": "code",
      "execution_count": 11,
      "metadata": {},
      "outputs": [
        {
          "name": "stdout",
          "output_type": "stream",
          "text": [
            "<class 'pandas.core.frame.DataFrame'>\n",
            "RangeIndex: 541909 entries, 0 to 541908\n",
            "Data columns (total 8 columns):\n",
            " #   Column       Non-Null Count   Dtype  \n",
            "---  ------       --------------   -----  \n",
            " 0   InvoiceNo    541909 non-null  object \n",
            " 1   StockCode    541909 non-null  object \n",
            " 2   Description  540455 non-null  object \n",
            " 3   Quantity     541909 non-null  int64  \n",
            " 4   InvoiceDate  541909 non-null  object \n",
            " 5   UnitPrice    541909 non-null  float64\n",
            " 6   CustomerID   541909 non-null  int64  \n",
            " 7   Country      541909 non-null  object \n",
            "dtypes: float64(1), int64(2), object(5)\n",
            "memory usage: 33.1+ MB\n"
          ]
        },
        {
          "data": {
            "text/html": [
              "<div>\n",
              "<style scoped>\n",
              "    .dataframe tbody tr th:only-of-type {\n",
              "        vertical-align: middle;\n",
              "    }\n",
              "\n",
              "    .dataframe tbody tr th {\n",
              "        vertical-align: top;\n",
              "    }\n",
              "\n",
              "    .dataframe thead th {\n",
              "        text-align: right;\n",
              "    }\n",
              "</style>\n",
              "<table border=\"1\" class=\"dataframe\">\n",
              "  <thead>\n",
              "    <tr style=\"text-align: right;\">\n",
              "      <th></th>\n",
              "      <th>InvoiceNo</th>\n",
              "      <th>StockCode</th>\n",
              "      <th>Description</th>\n",
              "      <th>Quantity</th>\n",
              "      <th>InvoiceDate</th>\n",
              "      <th>UnitPrice</th>\n",
              "      <th>CustomerID</th>\n",
              "      <th>Country</th>\n",
              "    </tr>\n",
              "  </thead>\n",
              "  <tbody>\n",
              "    <tr>\n",
              "      <th>0</th>\n",
              "      <td>536365</td>\n",
              "      <td>85123A</td>\n",
              "      <td>WHITE HANGING HEART T-LIGHT HOLDER</td>\n",
              "      <td>6</td>\n",
              "      <td>2010-12-01 08:26:00</td>\n",
              "      <td>2.55</td>\n",
              "      <td>17850</td>\n",
              "      <td>United Kingdom</td>\n",
              "    </tr>\n",
              "    <tr>\n",
              "      <th>1</th>\n",
              "      <td>536365</td>\n",
              "      <td>71053</td>\n",
              "      <td>WHITE METAL LANTERN</td>\n",
              "      <td>6</td>\n",
              "      <td>2010-12-01 08:26:00</td>\n",
              "      <td>3.39</td>\n",
              "      <td>17850</td>\n",
              "      <td>United Kingdom</td>\n",
              "    </tr>\n",
              "    <tr>\n",
              "      <th>2</th>\n",
              "      <td>536365</td>\n",
              "      <td>84406B</td>\n",
              "      <td>CREAM CUPID HEARTS COAT HANGER</td>\n",
              "      <td>8</td>\n",
              "      <td>2010-12-01 08:26:00</td>\n",
              "      <td>2.75</td>\n",
              "      <td>17850</td>\n",
              "      <td>United Kingdom</td>\n",
              "    </tr>\n",
              "    <tr>\n",
              "      <th>3</th>\n",
              "      <td>536365</td>\n",
              "      <td>84029G</td>\n",
              "      <td>KNITTED UNION FLAG HOT WATER BOTTLE</td>\n",
              "      <td>6</td>\n",
              "      <td>2010-12-01 08:26:00</td>\n",
              "      <td>3.39</td>\n",
              "      <td>17850</td>\n",
              "      <td>United Kingdom</td>\n",
              "    </tr>\n",
              "    <tr>\n",
              "      <th>4</th>\n",
              "      <td>536365</td>\n",
              "      <td>84029E</td>\n",
              "      <td>RED WOOLLY HOTTIE WHITE HEART.</td>\n",
              "      <td>6</td>\n",
              "      <td>2010-12-01 08:26:00</td>\n",
              "      <td>3.39</td>\n",
              "      <td>17850</td>\n",
              "      <td>United Kingdom</td>\n",
              "    </tr>\n",
              "  </tbody>\n",
              "</table>\n",
              "</div>"
            ],
            "text/plain": [
              "  InvoiceNo StockCode                          Description  Quantity  \\\n",
              "0    536365    85123A   WHITE HANGING HEART T-LIGHT HOLDER         6   \n",
              "1    536365     71053                  WHITE METAL LANTERN         6   \n",
              "2    536365    84406B       CREAM CUPID HEARTS COAT HANGER         8   \n",
              "3    536365    84029G  KNITTED UNION FLAG HOT WATER BOTTLE         6   \n",
              "4    536365    84029E       RED WOOLLY HOTTIE WHITE HEART.         6   \n",
              "\n",
              "           InvoiceDate  UnitPrice  CustomerID         Country  \n",
              "0  2010-12-01 08:26:00       2.55       17850  United Kingdom  \n",
              "1  2010-12-01 08:26:00       3.39       17850  United Kingdom  \n",
              "2  2010-12-01 08:26:00       2.75       17850  United Kingdom  \n",
              "3  2010-12-01 08:26:00       3.39       17850  United Kingdom  \n",
              "4  2010-12-01 08:26:00       3.39       17850  United Kingdom  "
            ]
          },
          "execution_count": 11,
          "metadata": {},
          "output_type": "execute_result"
        }
      ],
      "source": [
        "jc_df = pd.read_csv(r\"C:\\Users\\Default.DESKTOP-QO1EVKV\\OneDrive\\Documents\\GitHubRepos\\OnlineRetailSalesJC\\Online Retail.csv\")\n",
        "\n",
        "jc_df.info()\n",
        "jc_df.head()\n"
      ]
    },
    {
      "cell_type": "markdown",
      "metadata": {},
      "source": [
        "Next step isto start cleaning the data"
      ]
    },
    {
      "cell_type": "code",
      "execution_count": 12,
      "metadata": {},
      "outputs": [
        {
          "name": "stdout",
          "output_type": "stream",
          "text": [
            "\n",
            " Missing Values Before Cleaning:\n",
            " InvoiceNo         0\n",
            "StockCode         0\n",
            "Description    1454\n",
            "Quantity          0\n",
            "InvoiceDate       0\n",
            "UnitPrice         0\n",
            "CustomerID        0\n",
            "Country           0\n",
            "dtype: int64\n"
          ]
        }
      ],
      "source": [
        "missing_values = jc_df.isnull().sum()\n",
        "\n",
        "print(\"\\n Missing Values Before Cleaning:\\n\", missing_values)"
      ]
    },
    {
      "cell_type": "markdown",
      "metadata": {},
      "source": []
    },
    {
      "cell_type": "code",
      "execution_count": 14,
      "metadata": {},
      "outputs": [
        {
          "name": "stdout",
          "output_type": "stream",
          "text": [
            "\n",
            "🔹 Checking for missing values...\n",
            "\n",
            "📌 Missing Values Before Cleaning:\n",
            " InvoiceNo         0\n",
            "StockCode         0\n",
            "Description    1454\n",
            "Quantity          0\n",
            "InvoiceDate       0\n",
            "UnitPrice         0\n",
            "CustomerID        0\n",
            "Country           0\n",
            "dtype: int64\n",
            "\n",
            "✅ Missing values handled! Updated missing value counts:\n",
            " InvoiceNo         0\n",
            "StockCode         0\n",
            "Description    1454\n",
            "Quantity          0\n",
            "InvoiceDate       0\n",
            "UnitPrice         0\n",
            "CustomerID        0\n",
            "Country           0\n",
            "dtype: int64\n",
            "\n",
            "🔹 Converting InvoiceDate to DateTime format...\n",
            "\n",
            "✅ Date conversion complete!\n",
            "\n",
            "📌 Sample Dates:\n",
            " 0   2010-12-01 08:26:00\n",
            "1   2010-12-01 08:26:00\n",
            "2   2010-12-01 08:26:00\n",
            "3   2010-12-01 08:26:00\n",
            "4   2010-12-01 08:26:00\n",
            "Name: InvoiceDate, dtype: datetime64[ns]\n",
            "\n",
            "🔹 Removing returns (negative and zero quantities)...\n",
            "\n",
            "✅ Removed 10624 rows with negative or zero quantities.\n",
            "📌 Remaining rows: 531285\n",
            "\n",
            "🔹 Creating TotalAmount column...\n",
            "\n",
            "✅ TotalAmount column created!\n",
            "\n",
            "📌 Sample TotalAmount values:\n",
            "    Quantity  UnitPrice  TotalAmount\n",
            "0         6       2.55        15.30\n",
            "1         6       3.39        20.34\n",
            "2         8       2.75        22.00\n",
            "3         6       3.39        20.34\n",
            "4         6       3.39        20.34\n",
            "\n",
            "🔹 Extracting time features (Year, Month, Day, Hour)...\n",
            "\n",
            "✅ Time features extracted!\n",
            "\n",
            "📌 Sample Date Features:\n",
            "           InvoiceDate  Year  Month  Day  Hour\n",
            "0 2010-12-01 08:26:00  2010     12    1     8\n",
            "1 2010-12-01 08:26:00  2010     12    1     8\n",
            "2 2010-12-01 08:26:00  2010     12    1     8\n",
            "3 2010-12-01 08:26:00  2010     12    1     8\n",
            "4 2010-12-01 08:26:00  2010     12    1     8\n",
            "\n",
            "🔹 Performing RFM Analysis...\n",
            "\n",
            "✅ RFM Analysis Completed!\n",
            "\n",
            "📌 Sample RFM Data:\n",
            "             Recency  Frequency  Monetary\n",
            "CustomerID                              \n",
            "12346           325          1  77183.60\n",
            "12347             1        182   4310.00\n",
            "12348            74         31   1797.24\n",
            "12349            18         73   1757.55\n",
            "12350           309         17    334.40\n",
            "\n",
            "✅ Data saved successfully as 'jc_cleaned_retail_data.csv'! 🎉\n"
          ]
        }
      ],
      "source": [
        "# 📌 2️⃣ Handle Missing Values\n",
        "print(\"\\n🔹 Checking for missing values...\")\n",
        "missing_values = jc_df.isnull().sum()\n",
        "print(\"\\n📌 Missing Values Before Cleaning:\\n\", missing_values)\n",
        "\n",
        "# Drop rows where CustomerID is missing\n",
        "jc_df.dropna(subset=[\"CustomerID\"], inplace=True)\n",
        "\n",
        "print(\"\\n✅ Missing values handled! Updated missing value counts:\\n\", jc_df.isnull().sum())\n",
        "\n",
        "# 📌 3️⃣ Convert Date Column\n",
        "print(\"\\n🔹 Converting InvoiceDate to DateTime format...\")\n",
        "jc_df[\"InvoiceDate\"] = pd.to_datetime(jc_df[\"InvoiceDate\"])\n",
        "\n",
        "print(\"\\n✅ Date conversion complete!\")\n",
        "print(\"\\n📌 Sample Dates:\\n\", jc_df[\"InvoiceDate\"].head())\n",
        "\n",
        "# 📌 4️⃣ Remove Negative & Zero Quantities (Returns)\n",
        "print(\"\\n🔹 Removing returns (negative and zero quantities)...\")\n",
        "initial_count = jc_df.shape[0]\n",
        "jc_df = jc_df[jc_df[\"Quantity\"] > 0]\n",
        "final_count = jc_df.shape[0]\n",
        "\n",
        "print(f\"\\n✅ Removed {initial_count - final_count} rows with negative or zero quantities.\")\n",
        "print(f\"📌 Remaining rows: {final_count}\")\n",
        "\n",
        "# 📌 5️⃣ Create TotalAmount Column\n",
        "print(\"\\n🔹 Creating TotalAmount column...\")\n",
        "jc_df[\"TotalAmount\"] = jc_df[\"Quantity\"] * jc_df[\"UnitPrice\"]\n",
        "\n",
        "print(\"\\n✅ TotalAmount column created!\")\n",
        "print(\"\\n📌 Sample TotalAmount values:\\n\", jc_df[[\"Quantity\", \"UnitPrice\", \"TotalAmount\"]].head())\n",
        "\n",
        "# 📌 6️⃣ Feature Engineering - Extract Time Features\n",
        "print(\"\\n🔹 Extracting time features (Year, Month, Day, Hour)...\")\n",
        "jc_df[\"Year\"] = jc_df[\"InvoiceDate\"].dt.year\n",
        "jc_df[\"Month\"] = jc_df[\"InvoiceDate\"].dt.month\n",
        "jc_df[\"Day\"] = jc_df[\"InvoiceDate\"].dt.day\n",
        "jc_df[\"Hour\"] = jc_df[\"InvoiceDate\"].dt.hour\n",
        "\n",
        "print(\"\\n✅ Time features extracted!\")\n",
        "print(\"\\n📌 Sample Date Features:\\n\", jc_df[[\"InvoiceDate\", \"Year\", \"Month\", \"Day\", \"Hour\"]].head())\n",
        "\n",
        "# 📌 7️⃣ Customer Segmentation (RFM Analysis)\n",
        "print(\"\\n🔹 Performing RFM Analysis...\")\n",
        "jc_latest_date = jc_df[\"InvoiceDate\"].max()\n",
        "\n",
        "jc_rfm = jc_df.groupby(\"CustomerID\").agg({\n",
        "    \"InvoiceDate\": lambda x: (jc_latest_date - x.max()).days,  # Recency\n",
        "    \"InvoiceNo\": \"count\",  # Frequency\n",
        "    \"TotalAmount\": \"sum\"  # Monetary Value\n",
        "})\n",
        "jc_rfm.columns = [\"Recency\", \"Frequency\", \"Monetary\"]\n",
        "\n",
        "print(\"\\n✅ RFM Analysis Completed!\")\n",
        "print(\"\\n📌 Sample RFM Data:\\n\", jc_rfm.head())\n",
        "\n",
        "# 📌 8️⃣ Save Cleaned Data for Tableau\n",
        "output_file = \"jc_cleaned_retail_data.csv\"\n",
        "jc_df.to_csv(output_file, index=False)\n",
        "\n",
        "print(f\"\\n✅ Data saved successfully as '{output_file}'! 🎉\")"
      ]
    },
    {
      "cell_type": "markdown",
      "metadata": {},
      "source": [
        "NOTE"
      ]
    },
    {
      "cell_type": "markdown",
      "metadata": {},
      "source": [
        "* You may add as many sections as you want, as long as it supports your project workflow.\n",
        "* All notebook's cells should be run top-down (you can't create a dynamic wherein a given point you need to go back to a previous cell to execute some task, like go back to a previous cell and refresh a variable content)"
      ]
    },
    {
      "cell_type": "markdown",
      "metadata": {},
      "source": [
        "---"
      ]
    },
    {
      "cell_type": "markdown",
      "metadata": {
        "id": "ltNetd085qHf"
      },
      "source": [
        "# Push files to Repo"
      ]
    },
    {
      "cell_type": "markdown",
      "metadata": {},
      "source": [
        "* In cases where you don't need to push files to Repo, you may replace this section with \"Conclusions and Next Steps\" and state your conclusions and next steps."
      ]
    },
    {
      "cell_type": "code",
      "execution_count": null,
      "metadata": {
        "id": "aKlnIozA4eQO",
        "outputId": "fd09bc1f-adb1-4511-f6ce-492a6af570c0"
      },
      "outputs": [],
      "source": [
        "import os\n",
        "try:\n",
        "  # create your folder here\n",
        "  # os.makedirs(name='')\n",
        "except Exception as e:\n",
        "  print(e)\n"
      ]
    }
  ],
  "metadata": {
    "accelerator": "GPU",
    "colab": {
      "name": "Data Practitioner Jupyter Notebook.ipynb",
      "provenance": [],
      "toc_visible": true
    },
    "kernelspec": {
      "display_name": "Python 3",
      "language": "python",
      "name": "python3"
    },
    "language_info": {
      "codemirror_mode": {
        "name": "ipython",
        "version": 3
      },
      "file_extension": ".py",
      "mimetype": "text/x-python",
      "name": "python",
      "nbconvert_exporter": "python",
      "pygments_lexer": "ipython3",
      "version": "3.12.8"
    },
    "orig_nbformat": 2
  },
  "nbformat": 4,
  "nbformat_minor": 2
}
